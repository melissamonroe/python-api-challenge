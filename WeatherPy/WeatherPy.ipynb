{
 "cells": [
  {
   "cell_type": "markdown",
   "metadata": {},
   "source": [
    "# WeatherPy\n",
    "----\n",
    "\n",
    "#### Note\n",
    "* Instructions have been included for each segment. You do not have to follow them exactly, but they are included to help you think through the steps."
   ]
  },
  {
   "cell_type": "code",
   "execution_count": null,
   "metadata": {
    "scrolled": true
   },
   "outputs": [],
   "source": [
    "# Dependencies and Setup\n",
    "import matplotlib.pyplot as plt\n",
    "import pandas as pd\n",
    "import numpy as np\n",
    "import requests\n",
    "import time\n",
    "from pprint import pprint\n",
    "import scipy.stats as st\n",
    "\n",
    "# Import API key\n",
    "from config import weather_api_key\n",
    "\n",
    "# Incorporated citipy to determine city based on latitude and longitude\n",
    "from citipy import citipy\n",
    "\n",
    "# Output File (CSV)\n",
    "output_data_file = \"../output_data/city_weather.csv\"\n",
    "\n",
    "# Range of latitudes and longitudes\n",
    "lat_range = (-90, 90)\n",
    "lng_range = (-180, 180)"
   ]
  },
  {
   "cell_type": "markdown",
   "metadata": {},
   "source": [
    "## Generate Cities List"
   ]
  },
  {
   "cell_type": "code",
   "execution_count": null,
   "metadata": {},
   "outputs": [],
   "source": [
    "def get_cities(mincitycount):\n",
    "    # List for holding lat_lngs and cities\n",
    "    lat_lngs = []\n",
    "    cities = []\n",
    "\n",
    "    while (len(cities) < mincitycount):\n",
    "        # Create a set of random lat and lng combinations\n",
    "        lats = np.random.uniform(lat_range[0], lat_range[1], size=1500)\n",
    "        lngs = np.random.uniform(lng_range[0], lng_range[1], size=1500)\n",
    "        lat_lngs = zip(lats, lngs)\n",
    "\n",
    "        # Identify nearest city for each lat, lng combination\n",
    "        for lat_lng in lat_lngs:\n",
    "            city = citipy.nearest_city(lat_lng[0], lat_lng[1]).city_name\n",
    "\n",
    "            # If the city is unique, then add it to a our cities list\n",
    "            if city not in cities:\n",
    "                cities.append(city)\n",
    "\n",
    "    return cities;    "
   ]
  },
  {
   "cell_type": "code",
   "execution_count": null,
   "metadata": {},
   "outputs": [],
   "source": [
    "# get minimum 500 cities\n",
    "cities = get_cities(500)\n",
    "\n",
    "# Print the city count to confirm sufficient count\n",
    "len(cities) "
   ]
  },
  {
   "cell_type": "markdown",
   "metadata": {},
   "source": [
    "### Perform API Calls\n",
    "* Perform a weather check on each city using a series of successive API calls.\n",
    "* Include a print log of each city as it's being processed (with the city number and city name).\n"
   ]
  },
  {
   "cell_type": "code",
   "execution_count": null,
   "metadata": {
    "scrolled": true
   },
   "outputs": [],
   "source": [
    "url = \"http://api.openweathermap.org/data/2.5/weather?\"\n",
    "units = \"imperial\"\n",
    "\n",
    "i = 0\n",
    "weather_data = []\n",
    "\n",
    "for city in cities:\n",
    "    print(f\"Index {str(i)} fetching weather for {city}\")\n",
    "    \n",
    "    # Build query URL\n",
    "    query_url = f\"{url}appid={weather_api_key}&units={units}&q={city}\"\n",
    "    \n",
    "    # increment index counter\n",
    "    i += 1\n",
    "    \n",
    "    # Get weather data\n",
    "    weather_response = requests.get(query_url)\n",
    "    weather_json = weather_response.json()\n",
    "    weather_data.append(weather_json)        \n",
    "    time.sleep(1)\n"
   ]
  },
  {
   "cell_type": "markdown",
   "metadata": {},
   "source": [
    "### Convert Raw Data to DataFrame\n",
    "* Add weather data to dataframe\n",
    "* Export the weather data into a .csv.\n",
    "* Display weather datafram"
   ]
  },
  {
   "cell_type": "code",
   "execution_count": null,
   "metadata": {},
   "outputs": [],
   "source": [
    "pprint(weather_data[1][\"sys\"][\"country\"])\n",
    "pprint(weather_data[1][\"dt\"])\n",
    "pprint(weather_data[1])"
   ]
  },
  {
   "cell_type": "code",
   "execution_count": null,
   "metadata": {},
   "outputs": [],
   "source": [
    "# define lists for cities, countries, date, latitude, longitude, temperature (F), max temperature (F), humidity, cloudiness, wind speed\n",
    "cities = []\n",
    "countries = []\n",
    "date = []\n",
    "lat = []\n",
    "lon = []\n",
    "temp = []\n",
    "max_temp = []\n",
    "hum = []\n",
    "cloud = []\n",
    "wind = []\n",
    "\n",
    "for weather in weather_data:\n",
    "    if (weather[\"cod\"] == 200):        \n",
    "        cities.append(weather[\"name\"])\n",
    "        countries.append(weather[\"sys\"][\"country\"])\n",
    "        date.append(weather[\"dt\"])        \n",
    "        lat.append(weather[\"coord\"][\"lat\"])\n",
    "        lon.append(weather[\"coord\"][\"lon\"])\n",
    "        temp.append(weather[\"main\"][\"temp\"]) \n",
    "        max_temp.append(weather[\"main\"][\"temp_max\"]) \n",
    "        hum.append(weather[\"main\"][\"humidity\"])\n",
    "        cloud.append(weather[\"clouds\"][\"all\"])        \n",
    "        wind.append(weather[\"wind\"][\"speed\"])        \n"
   ]
  },
  {
   "cell_type": "code",
   "execution_count": null,
   "metadata": {},
   "outputs": [],
   "source": [
    "# create a data frame for columns: cities, countries, date, lat, long, temp, max temp, humidity, cloudiness, and wind speed\n",
    "weather_dict = {\n",
    "    \"city\": cities,\n",
    "    \"country\": countries,\n",
    "    \"date\": date,\n",
    "    \"latitude\": lat,\n",
    "    \"longitude\": lon,    \n",
    "    \"temperature\": temp,\n",
    "    \"max temperature\": max_temp,\n",
    "    \"humidity\": hum,\n",
    "    \"cloudiness\": cloud,\n",
    "    \"wind speed\": wind,\n",
    "    \n",
    "}\n",
    "weather_df = pd.DataFrame(weather_dict)\n",
    "weather_df\n"
   ]
  },
  {
   "cell_type": "code",
   "execution_count": null,
   "metadata": {},
   "outputs": [],
   "source": [
    "# ****************\n",
    "# pull prevously generated and saved output data from csv\n",
    "weather_df = pd.read_csv(output_data_file)\n",
    "\n",
    "# **************** \n",
    "# save weather to csv\n",
    "# weather_df.to_csv(output_data_file, index=True,index_label=\"city_id\")  "
   ]
  },
  {
   "cell_type": "code",
   "execution_count": null,
   "metadata": {},
   "outputs": [],
   "source": [
    "list_humidity_outlier_index = []\n",
    "humidity_outlier_df = weather_df.loc[weather_df[\"humidity\"] > 100]\n",
    "if (len(humidity_outlier_df) > 0):\n",
    "    list_humidity_outlier_index = humidity_outlier_df.index.tolist()\n"
   ]
  },
  {
   "cell_type": "markdown",
   "metadata": {},
   "source": [
    "## Inspect the data and remove the cities where the humidity > 100%.\n",
    "----\n",
    "Skip this step if there are no cities that have humidity > 100%. "
   ]
  },
  {
   "cell_type": "code",
   "execution_count": null,
   "metadata": {},
   "outputs": [],
   "source": [
    "#  Get the indices of cities that have humidity over 100%.\n",
    "if (len(list_humidity_outlier_index) > 0):\n",
    "    print(f\"Dropping {len(list_humidity_outlier_index)} humidity outliers (humidity over 100)\")\n",
    "    \n",
    "    # Make a new DataFrame equal to the city data to drop all humidity outliers by index.\n",
    "    # Passing \"inplace=False\" will make a copy of the city_data DataFrame, which we call \"clean_city_data\".\n",
    "    clean_weather_df = weather_df.drop(weather_df.index[list_humidity_outlier_index], inplace = False)        \n",
    "else: \n",
    "    print(f\"Dropping zero humidity outliers (no weather in weather_df with humidity > 100)\")\n",
    "    clean_weather_df = weather_df\n",
    "\n",
    "# verify dataframe counts, if no outliers counts should be the same\n",
    "# if outliers dropped, clean_weather_df dataframe should be len(list_humidity_outlier_index) less than weather_df\n",
    "print(f\"Weather dataframe count: {len(weather_df)}\")\n",
    "print(f\"Clean weather dataframe count: {len(clean_weather_df)}\")        "
   ]
  },
  {
   "cell_type": "code",
   "execution_count": null,
   "metadata": {},
   "outputs": [],
   "source": [
    "# view clean_weather_df\n",
    "clean_weather_df"
   ]
  },
  {
   "cell_type": "markdown",
   "metadata": {},
   "source": [
    "## Plotting the Data\n",
    "* Use proper labeling of the plots using plot titles (including date of analysis) and axes labels.\n",
    "* Save the plotted figures as .pngs."
   ]
  },
  {
   "cell_type": "markdown",
   "metadata": {},
   "source": [
    "## Latitude vs. Temperature Plot"
   ]
  },
  {
   "cell_type": "code",
   "execution_count": null,
   "metadata": {},
   "outputs": [],
   "source": [
    "# define plot data serieses \n",
    "latitude = clean_weather_df[\"latitude\"]\n",
    "temps = clean_weather_df[\"temperature\"]\n",
    "humidity = clean_weather_df[\"humidity\"]\n",
    "cloud = clean_weather_df[\"cloudiness\"]\n",
    "wind = clean_weather_df[\"wind speed\"]"
   ]
  },
  {
   "cell_type": "code",
   "execution_count": null,
   "metadata": {
    "scrolled": true
   },
   "outputs": [],
   "source": [
    "plt.title(\"Latitude vs. Temperature Plot\")\n",
    "plt.ylabel(\"Temperature (F)\")\n",
    "plt.xlabel(\"Latitude\")\n",
    "\n",
    "plt.scatter(latitude,temps,marker=\"o\",color=\"red\",edgecolors=\"black\")\n",
    "plt.show()\n"
   ]
  },
  {
   "cell_type": "markdown",
   "metadata": {},
   "source": [
    "## Latitude vs. Humidity Plot"
   ]
  },
  {
   "cell_type": "code",
   "execution_count": null,
   "metadata": {},
   "outputs": [],
   "source": [
    "plt.title(\"Latitude vs. Humidity Plot\")\n",
    "plt.ylabel(\"Percent Humidity\")\n",
    "plt.xlabel(\"Latitude\")\n",
    "\n",
    "plt.scatter(latitude,humidity,marker=\"o\", color=\"blue\", edgecolors=\"black\")\n",
    "plt.show()\n"
   ]
  },
  {
   "cell_type": "markdown",
   "metadata": {},
   "source": [
    "## Latitude vs. Cloudiness Plot"
   ]
  },
  {
   "cell_type": "code",
   "execution_count": null,
   "metadata": {},
   "outputs": [],
   "source": [
    "plt.title(\"Latitude vs. Cloudiness Plot\")\n",
    "plt.ylabel(\"Percent Cloudiness\")\n",
    "plt.xlabel(\"Latitude\")\n",
    "\n",
    "plt.scatter(latitude,cloud,marker=\"o\", color=\"grey\", edgecolors=\"black\")\n",
    "plt.show()\n"
   ]
  },
  {
   "cell_type": "markdown",
   "metadata": {},
   "source": [
    "## Latitude vs. Wind Speed Plot"
   ]
  },
  {
   "cell_type": "code",
   "execution_count": null,
   "metadata": {},
   "outputs": [],
   "source": [
    "plt.title(\"Latitude vs. Wind Speed Plot\")\n",
    "plt.ylabel(\"Wind Speed (mph)\")\n",
    "plt.xlabel(\"Latitude\")\n",
    "\n",
    "plt.scatter(latitude,wind,marker=\"o\", color=\"lightblue\", edgecolors=\"black\")\n",
    "plt.show()\n"
   ]
  },
  {
   "cell_type": "markdown",
   "metadata": {},
   "source": [
    "## Linear Regression"
   ]
  },
  {
   "cell_type": "code",
   "execution_count": null,
   "metadata": {},
   "outputs": [],
   "source": [
    "# define series for linear regression plots\n",
    "\n",
    "# latitudes northern/southern hemisphere\n",
    "lat_nh = clean_weather_df.loc[clean_weather_df[\"latitude\"] > 0][\"latitude\"] \n",
    "lat_sh = clean_weather_df.loc[clean_weather_df[\"latitude\"] < 0][\"latitude\"] \n",
    "\n",
    "# Northnern/Southern Hemisphere - Max Temp vs. Latitude Linear Regression\n",
    "\n",
    "# max temps northern/southern hemisphere\n",
    "max_temps_nh = clean_weather_df.loc[clean_weather_df[\"latitude\"] > 0][\"max temperature\"] \n",
    "max_temps_sh = clean_weather_df.loc[clean_weather_df[\"latitude\"] < 0][\"max temperature\"] \n",
    "\n",
    "# Northern Hemisphere - Humidity (%) vs. Latitude Linear Regression\n",
    "\n",
    "# humidity % temps northern/southern hemisphere\n",
    "hum_nh = clean_weather_df.loc[clean_weather_df[\"latitude\"] > 0][\"humidity\"] \n",
    "hum_sh = clean_weather_df.loc[clean_weather_df[\"latitude\"] < 0][\"humidity\"] \n",
    "\n"
   ]
  },
  {
   "cell_type": "markdown",
   "metadata": {},
   "source": [
    "####  Northern Hemisphere - Max Temp vs. Latitude Linear Regression"
   ]
  },
  {
   "cell_type": "code",
   "execution_count": null,
   "metadata": {},
   "outputs": [],
   "source": [
    "# Calculate the correlation coefficient and linear regression model \n",
    "# correlation coefficient northern hemisphere\n",
    "correlation_latmaxtemp_nh = st.pearsonr(lat_nh,max_temps_nh)\n",
    "\n",
    "print(f\"The correlation between Max Temperature vs. Latitude (Northern Hemisphere) is {round(correlation_latmaxtemp_nh[0],2)}\")\n",
    "\n",
    "# for Northern Hemisphere - Max Temp vs. Latitude Linear Regression\n",
    "x_lat_nh = lat_nh\n",
    "y_max_temps_nh = max_temps_nh\n",
    "(slope, intercept, rvalue, pvalue, stderr) = st.linregress(x_lat_nh, y_max_temps_nh)\n",
    "regress_values = x_lat_nh * slope + intercept\n",
    "line_eq_latmaxtemps_nh = \"y = \" + str(round(slope,2)) + \"x + \" + str(round(intercept,2))\n",
    "plt.scatter(x_lat_nh,y_max_temps_nh)\n",
    "plt.plot(x_lat_nh,regress_values,\"r-\")\n",
    "plt.annotate(line_eq_latmaxtemps_nh,(6,10),fontsize=15,color=\"red\")\n",
    "\n",
    "plt.title(\"Northern Hemisphere - Max Temp vs. Latitude Linear Regression\")\n",
    "plt.ylabel(\"Max Temperatures (F)\")\n",
    "plt.xlabel(\"Latitude\")\n",
    "plt.show()\n"
   ]
  },
  {
   "cell_type": "markdown",
   "metadata": {},
   "source": [
    "####  Southern Hemisphere - Max Temp vs. Latitude Linear Regression"
   ]
  },
  {
   "cell_type": "code",
   "execution_count": null,
   "metadata": {},
   "outputs": [],
   "source": [
    "# Calculate the correlation coefficient and linear regression model for southern hemisphere\n",
    "# correlation coefficient southern hemisphere\n",
    "correlation_latmaxtemp_sh = st.pearsonr(lat_sh,max_temps_sh)\n",
    "\n",
    "print(f\"The correlation between Max Temperature vs. Latitude (Southern Hemisphere) is {round(correlation_latmaxtemp_sh[0],2)}\")\n",
    "\n",
    "# for Southern Hemisphere - Max Temp vs. Latitude Linear Regression\n",
    "x_lat_sh = lat_sh\n",
    "y_max_temps_sh = max_temps_sh\n",
    "(slope, intercept, rvalue, pvalue, stderr) = st.linregress(x_lat_sh,y_max_temps_sh)\n",
    "regress_values = x_lat_sh * slope + intercept\n",
    "line_eq_sh = \"y = \" + str(round(slope,2)) + \"x + \" + str(round(intercept,2))\n",
    "plt.scatter(x_lat_sh,y_max_temps_sh)\n",
    "plt.plot(x_lat_sh,regress_values,\"r-\")\n",
    "plt.annotate(line_eq_sh,(-30,55),fontsize=15,color=\"red\")\n",
    "\n",
    "plt.title(\"Southern Hemisphere - Max Temp vs. Latitude Linear Regression\")\n",
    "plt.ylabel(\"Max Temperatures (F)\")\n",
    "plt.xlabel(\"Latitude\")\n",
    "plt.show()"
   ]
  },
  {
   "cell_type": "markdown",
   "metadata": {},
   "source": [
    "####  Northern Hemisphere - Humidity (%) vs. Latitude Linear Regression"
   ]
  },
  {
   "cell_type": "code",
   "execution_count": null,
   "metadata": {},
   "outputs": [],
   "source": [
    "# correlation coefficient northern hemisphere\n",
    "correlation_lathum_nh = st.pearsonr(lat_nh,hum_nh)\n",
    "\n",
    "print(f\"The correlation between Humidity (%) vs. Latitude (Northern Hemisphere) is {round(correlation_lathum_nh[0],2)}\")\n",
    "\n",
    "# for Northern Hemisphere - Max Temp vs. Latitude Linear Regression\n",
    "x_lat_nh = lat_nh\n",
    "y_hum_nh = hum_nh\n",
    "(slope, intercept, rvalue, pvalue, stderr) = st.linregress(x_lat_nh, y_hum_nh)\n",
    "regress_values = x_lat_nh * slope + intercept\n",
    "line_eq_lathum_nh = \"y = \" + str(round(slope,2)) + \"x + \" + str(round(intercept,2))\n",
    "plt.scatter(x_lat_nh,y_hum_nh)\n",
    "plt.plot(x_lat_nh,regress_values,\"r-\")\n",
    "plt.annotate(line_eq_lathum_nh,(40,6),fontsize=15,color=\"red\")\n",
    "\n",
    "plt.title(\"Northern Hemisphere - Max Temp vs. Latitude Linear Regression\")\n",
    "plt.ylabel(\"Percent Humidity\")\n",
    "plt.xlabel(\"Latitude\")\n",
    "plt.show()\n"
   ]
  },
  {
   "cell_type": "markdown",
   "metadata": {},
   "source": [
    "####  Southern Hemisphere - Humidity (%) vs. Latitude Linear Regression"
   ]
  },
  {
   "cell_type": "code",
   "execution_count": null,
   "metadata": {},
   "outputs": [],
   "source": [
    "# Calculate the correlation coefficient and linear regression model for southern hemisphere\n",
    "# correlation coefficient southern hemisphere\n",
    "correlation_lathum_sh = st.pearsonr(lat_sh,hum_sh)\n",
    "\n",
    "print(f\"The correlation between Percent Humidity vs. Latitude (Southern Hemisphere) is {round(correlation_lathum_sh[0],2)}\")\n",
    "\n",
    "# for Southern Hemisphere - Percent Humidity vs. Latitude Linear Regression\n",
    "x_lat_sh = lat_sh\n",
    "y_hum_sh = hum_sh\n",
    "(slope, intercept, rvalue, pvalue, stderr) = st.linregress(x_lat_sh,y_hum_sh)\n",
    "regress_values = x_lat_sh * slope + intercept\n",
    "line_eq_lathum_sh = \"y = \" + str(round(slope,2)) + \"x + \" + str(round(intercept,2))\n",
    "plt.scatter(x_lat_sh,y_hum_sh)\n",
    "plt.plot(x_lat_sh,regress_values,\"r-\")\n",
    "#plt.annotate(line_eq_sh,(10,-10),fontsize=15,color=\"red\")\n",
    "\n",
    "plt.title(\"Southern Hemisphere - Percent Humidity vs. Latitude Linear Regression\")\n",
    "plt.ylabel(\"Percent Humidity\")\n",
    "plt.xlabel(\"Latitude\")\n",
    "plt.show()"
   ]
  },
  {
   "cell_type": "markdown",
   "metadata": {},
   "source": [
    "####  Northern Hemisphere - Cloudiness (%) vs. Latitude Linear Regression"
   ]
  },
  {
   "cell_type": "code",
   "execution_count": null,
   "metadata": {},
   "outputs": [],
   "source": [
    "######\n",
    "# ***************TODO\n",
    "\n",
    "\n",
    "\n",
    "# Calculate the correlation coefficient and linear regression model \n",
    "\n",
    "# latitudes and max temps northern hemisphere\n",
    "lat_nh = clean_weather_df.loc[clean_weather_df[\"latitude\"] > 0][\"latitude\"] \n",
    "max_temps_nh = clean_weather_df.loc[clean_weather_df[\"latitude\"] > 0][\"max temperature\"] \n",
    "\n",
    "# correlation coefficient northern hemisphere\n",
    "correlation_nh = st.pearsonr(lat_nh,max_temps_nh)\n",
    "\n",
    "print(f\"The correlation between Max Temperature vs. Latitude (Northern Hemisphere) is {round(correlation_nh[0],2)}\")\n",
    "\n",
    "# for Northern Hemisphere - Max Temp vs. Latitude Linear Regression\n",
    "x_values_nh = lat_nh\n",
    "y_values_nh = max_temps_nh\n",
    "(slope, intercept, rvalue, pvalue, stderr) = st.linregress(x_values_nh, y_values_nh)\n",
    "regress_values = x_values_nh * slope + intercept\n",
    "line_eq = \"y = \" + str(round(slope,2)) + \"x + \" + str(round(intercept,2))\n",
    "plt.scatter(x_values_nh,y_values_nh)\n",
    "plt.plot(x_values_nh,regress_values,\"r-\")\n",
    "plt.annotate(line_eq,(6,10),fontsize=15,color=\"red\")\n",
    "\n",
    "plt.title(\"Northern Hemisphere - Max Temp vs. Latitude Linear Regression\")\n",
    "plt.ylabel(\"Max Temperatures (F)\")\n",
    "plt.xlabel(\"Latitude\")\n",
    "plt.show()\n"
   ]
  },
  {
   "cell_type": "markdown",
   "metadata": {},
   "source": [
    "####  Southern Hemisphere - Cloudiness (%) vs. Latitude Linear Regression"
   ]
  },
  {
   "cell_type": "code",
   "execution_count": null,
   "metadata": {},
   "outputs": [],
   "source": [
    "######\n",
    "# ***************TODO\n",
    "\n",
    "\n",
    "\n",
    "# Calculate the correlation coefficient and linear regression model for southern hemisphere\n",
    "# correlation coefficient southern hemisphere\n",
    "correlation_sh = st.pearsonr(lat_sh,max_temps_sh)\n",
    "\n",
    "print(f\"The correlation between Max Temperature vs. Latitude (Southern Hemisphere) is {round(correlation_sh[0],2)}\")\n",
    "\n",
    "# for Southern Hemisphere - Max Temp vs. Latitude Linear Regression\n",
    "x_values_sh = lat_sh\n",
    "y_values_sh = max_temps_sh\n",
    "(slope, intercept, rvalue, pvalue, stderr) = st.linregress(x_values_sh,y_values_sh)\n",
    "regress_values = x_values_sh * slope + intercept\n",
    "line_eq_sh = \"y = \" + str(round(slope,2)) + \"x + \" + str(round(intercept,2))\n",
    "plt.scatter(x_values_sh,y_values_sh)\n",
    "plt.plot(x_values_sh,regress_values,\"r-\")\n",
    "#plt.annotate(line_eq_sh,(10,-10),fontsize=15,color=\"red\")\n",
    "\n",
    "plt.title(\"Northern Hemisphere - Max Temp vs. Latitude Linear Regression\")\n",
    "plt.ylabel(\"Max Temperatures (F)\")\n",
    "plt.xlabel(\"Latitude\")\n",
    "plt.show()"
   ]
  },
  {
   "cell_type": "markdown",
   "metadata": {},
   "source": [
    "####  Northern Hemisphere - Wind Speed (mph) vs. Latitude Linear Regression"
   ]
  },
  {
   "cell_type": "code",
   "execution_count": null,
   "metadata": {},
   "outputs": [],
   "source": [
    "######\n",
    "# ***************TODO\n",
    "\n",
    "\n",
    "\n",
    "# Calculate the correlation coefficient and linear regression model \n",
    "\n",
    "# latitudes and max temps northern hemisphere\n",
    "lat_nh = clean_weather_df.loc[clean_weather_df[\"latitude\"] > 0][\"latitude\"] \n",
    "max_temps_nh = clean_weather_df.loc[clean_weather_df[\"latitude\"] > 0][\"max temperature\"] \n",
    "\n",
    "# correlation coefficient northern hemisphere\n",
    "correlation_nh = st.pearsonr(lat_nh,max_temps_nh)\n",
    "\n",
    "print(f\"The correlation between Max Temperature vs. Latitude (Northern Hemisphere) is {round(correlation_nh[0],2)}\")\n",
    "\n",
    "# for Northern Hemisphere - Max Temp vs. Latitude Linear Regression\n",
    "x_values_nh = lat_nh\n",
    "y_values_nh = max_temps_nh\n",
    "(slope, intercept, rvalue, pvalue, stderr) = st.linregress(x_values_nh, y_values_nh)\n",
    "regress_values = x_values_nh * slope + intercept\n",
    "line_eq = \"y = \" + str(round(slope,2)) + \"x + \" + str(round(intercept,2))\n",
    "plt.scatter(x_values_nh,y_values_nh)\n",
    "plt.plot(x_values_nh,regress_values,\"r-\")\n",
    "plt.annotate(line_eq,(6,10),fontsize=15,color=\"red\")\n",
    "\n",
    "plt.title(\"Northern Hemisphere - Max Temp vs. Latitude Linear Regression\")\n",
    "plt.ylabel(\"Max Temperatures (F)\")\n",
    "plt.xlabel(\"Latitude\")\n",
    "plt.show()\n"
   ]
  },
  {
   "cell_type": "markdown",
   "metadata": {},
   "source": [
    "####  Southern Hemisphere - Wind Speed (mph) vs. Latitude Linear Regression"
   ]
  },
  {
   "cell_type": "code",
   "execution_count": null,
   "metadata": {},
   "outputs": [],
   "source": [
    "######\n",
    "# ***************TODO\n",
    "\n",
    "\n",
    "\n",
    "# Calculate the correlation coefficient and linear regression model for southern hemisphere\n",
    "# correlation coefficient southern hemisphere\n",
    "correlation_sh = st.pearsonr(lat_sh,max_temps_sh)\n",
    "\n",
    "print(f\"The correlation between Max Temperature vs. Latitude (Southern Hemisphere) is {round(correlation_sh[0],2)}\")\n",
    "\n",
    "# for Southern Hemisphere - Max Temp vs. Latitude Linear Regression\n",
    "x_values_sh = lat_sh\n",
    "y_values_sh = max_temps_sh\n",
    "(slope, intercept, rvalue, pvalue, stderr) = st.linregress(x_values_sh,y_values_sh)\n",
    "regress_values = x_values_sh * slope + intercept\n",
    "line_eq_sh = \"y = \" + str(round(slope,2)) + \"x + \" + str(round(intercept,2))\n",
    "plt.scatter(x_values_sh,y_values_sh)\n",
    "plt.plot(x_values_sh,regress_values,\"r-\")\n",
    "#plt.annotate(line_eq_sh,(10,-10),fontsize=15,color=\"red\")\n",
    "\n",
    "plt.title(\"Northern Hemisphere - Max Temp vs. Latitude Linear Regression\")\n",
    "plt.ylabel(\"Max Temperatures (F)\")\n",
    "plt.xlabel(\"Latitude\")\n",
    "plt.show()"
   ]
  }
 ],
 "metadata": {
  "anaconda-cloud": {},
  "kernel_info": {
   "name": "python3"
  },
  "kernelspec": {
   "display_name": "Python 3",
   "language": "python",
   "name": "python3"
  },
  "language_info": {
   "codemirror_mode": {
    "name": "ipython",
    "version": 3
   },
   "file_extension": ".py",
   "mimetype": "text/x-python",
   "name": "python",
   "nbconvert_exporter": "python",
   "pygments_lexer": "ipython3",
   "version": "3.8.5"
  },
  "latex_envs": {
   "LaTeX_envs_menu_present": true,
   "autoclose": false,
   "autocomplete": true,
   "bibliofile": "biblio.bib",
   "cite_by": "apalike",
   "current_citInitial": 1,
   "eqLabelWithNumbers": true,
   "eqNumInitial": 1,
   "hotkeys": {
    "equation": "Ctrl-E",
    "itemize": "Ctrl-I"
   },
   "labels_anchors": false,
   "latex_user_defs": false,
   "report_style_numbering": false,
   "user_envs_cfg": false
  },
  "nteract": {
   "version": "0.12.3"
  }
 },
 "nbformat": 4,
 "nbformat_minor": 2
}
